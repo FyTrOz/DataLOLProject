{
 "cells": [
  {
   "cell_type": "code",
   "id": "initial_id",
   "metadata": {
    "collapsed": true,
    "ExecuteTime": {
     "end_time": "2024-11-15T08:40:06.116585Z",
     "start_time": "2024-11-15T08:39:53.118157Z"
    }
   },
   "source": [
    "import requests\n",
    "import pandas\n",
    "import os\n",
    "import json\n",
    "\n",
    "# Clé d'API Riot (voir pour la mettre a jour en auto)\n",
    "api_key = \"RGAPI-fbcfcab9-2813-4b92-9f2c-30ce79fa75df\"\n",
    "\n",
    "headers = {\n",
    "    'X-Riot-Token': api_key\n",
    "}\n",
    "\n",
    "# Info des joueurs\n",
    "gameName = \"CapitaineFyTrOz\"\n",
    "tagLine = \"COACH\"\n",
    "\n",
    "# Fonction pour récupérer les informations de compte du joueur\n",
    "def getAccount(gameName, tagLine):\n",
    "    url_compte = f\"https://europe.api.riotgames.com/riot/account/v1/accounts/by-riot-id/{gameName}/{tagLine}\"\n",
    "    compte = requests.get(url_compte, headers=headers).json()\n",
    "    return compte\n",
    "\n",
    "# Fonction pour obtenir les matchs du joueur\n",
    "def getMatchs(compte,params=None ):\n",
    "    url_matchs = f\"https://europe.api.riotgames.com/lol/match/v5/matches/by-puuid/{compte['puuid']}/ids\"\n",
    "    matchs = requests.get(url_matchs, headers=headers, params=params).json()\n",
    "    return matchs\n",
    "\n",
    "# Fonction pour obtenir\n",
    "def getGameDetail(match):\n",
    "        url_donnees = f\"https://europe.api.riotgames.com/lol/match/v5/matches/{match}\"\n",
    "        data = requests.get(url_donnees, headers=headers).json()\n",
    "        return data\n",
    "\n",
    "# Fonction pour obtenir les timings des games\n",
    "def getTimeLine(match):\n",
    "    url_timeline = f\" https://europe.api.riotgames.com/101/match/vS/matches/{match}/timeline\"\n",
    "    timeline = requests.get(url_timeline, headers=headers).json()\n",
    "    return timeline\n",
    "\n",
    "Account_Data = getAccount(gameName, tagLine)\n",
    "Matchs_List = getMatchs(Account_Data)\n",
    "\n",
    "details_matchs = []\n",
    "\n",
    "for match_id in Matchs_List:\n",
    "    try:\n",
    "        Game_Data = getGameDetail(match_id)\n",
    "        \n",
    "        if \"metadata\" in Game_Data and \"matchId\" in Game_Data[\"metadata\"]:\n",
    "            if Game_Data[\"metadata\"][\"matchId\"] == match_id:\n",
    "                details_matchs.append(Game_Data)\n",
    "            else:\n",
    "                print(f\"Problème pour le match {match_id}, ID ne correspond pas.\")\n",
    "        else:\n",
    "            print(f\"Clé 'metadata' ou 'matchId' manquante pour le match {match_id}\")\n",
    "            \n",
    "    except Exception as e:\n",
    "        print(f\"Erreur game detail pour le match {match_id}: {e}\")\n",
    "        \n",
    "\n",
    "panda_data = pandas.DataFrame(details_matchs)\n",
    "print(panda_data)"
   ],
   "outputs": [
    {
     "name": "stdout",
     "output_type": "stream",
     "text": [
      "                                             metadata  \\\n",
      "0   {'dataVersion': '2', 'matchId': 'EUW1_71864503...   \n",
      "1   {'dataVersion': '2', 'matchId': 'EUW1_71863884...   \n",
      "2   {'dataVersion': '2', 'matchId': 'EUW1_71854098...   \n",
      "3   {'dataVersion': '2', 'matchId': 'EUW1_71853468...   \n",
      "4   {'dataVersion': '2', 'matchId': 'EUW1_71852877...   \n",
      "5   {'dataVersion': '2', 'matchId': 'EUW1_71843094...   \n",
      "6   {'dataVersion': '2', 'matchId': 'EUW1_71842588...   \n",
      "7   {'dataVersion': '2', 'matchId': 'EUW1_71841890...   \n",
      "8   {'dataVersion': '2', 'matchId': 'EUW1_71831429...   \n",
      "9   {'dataVersion': '2', 'matchId': 'EUW1_71830953...   \n",
      "10  {'dataVersion': '2', 'matchId': 'EUW1_71830398...   \n",
      "11  {'dataVersion': '2', 'matchId': 'EUW1_71830048...   \n",
      "12  {'dataVersion': '2', 'matchId': 'EUW1_71829653...   \n",
      "13  {'dataVersion': '2', 'matchId': 'EUW1_71829263...   \n",
      "14  {'dataVersion': '2', 'matchId': 'EUW1_71828809...   \n",
      "15  {'dataVersion': '2', 'matchId': 'EUW1_71827368...   \n",
      "16  {'dataVersion': '2', 'matchId': 'EUW1_71827118...   \n",
      "17  {'dataVersion': '2', 'matchId': 'EUW1_71826833...   \n",
      "18  {'dataVersion': '2', 'matchId': 'EUW1_71825060...   \n",
      "19  {'dataVersion': '2', 'matchId': 'EUW1_71824787...   \n",
      "\n",
      "                                                 info  \n",
      "0   {'endOfGameResult': 'GameComplete', 'gameCreat...  \n",
      "1   {'endOfGameResult': 'GameComplete', 'gameCreat...  \n",
      "2   {'endOfGameResult': 'GameComplete', 'gameCreat...  \n",
      "3   {'endOfGameResult': 'GameComplete', 'gameCreat...  \n",
      "4   {'endOfGameResult': 'GameComplete', 'gameCreat...  \n",
      "5   {'endOfGameResult': 'GameComplete', 'gameCreat...  \n",
      "6   {'endOfGameResult': 'GameComplete', 'gameCreat...  \n",
      "7   {'endOfGameResult': 'GameComplete', 'gameCreat...  \n",
      "8   {'endOfGameResult': 'GameComplete', 'gameCreat...  \n",
      "9   {'endOfGameResult': 'GameComplete', 'gameCreat...  \n",
      "10  {'endOfGameResult': 'GameComplete', 'gameCreat...  \n",
      "11  {'endOfGameResult': 'GameComplete', 'gameCreat...  \n",
      "12  {'endOfGameResult': 'GameComplete', 'gameCreat...  \n",
      "13  {'endOfGameResult': 'GameComplete', 'gameCreat...  \n",
      "14  {'endOfGameResult': 'GameComplete', 'gameCreat...  \n",
      "15  {'endOfGameResult': 'GameComplete', 'gameCreat...  \n",
      "16  {'endOfGameResult': 'GameComplete', 'gameCreat...  \n",
      "17  {'endOfGameResult': 'GameComplete', 'gameCreat...  \n",
      "18  {'endOfGameResult': 'GameComplete', 'gameCreat...  \n",
      "19  {'endOfGameResult': 'GameComplete', 'gameCreat...  \n"
     ]
    }
   ],
   "execution_count": 1
  },
  {
   "metadata": {
    "ExecuteTime": {
     "end_time": "2024-11-14T21:48:16.631399Z",
     "start_time": "2024-11-14T21:48:16.476950Z"
    }
   },
   "cell_type": "code",
   "source": [
    "# Spécifie le dossier et le nom du fichier\n",
    "folder_path = \"json\"\n",
    "file_name = \"all_game_details.json\"\n",
    "full_path = os.path.join(folder_path, file_name)\n",
    "\n",
    "# Vérifie si le dossier \"json\" existe, sinon, crée-le\n",
    "if not os.path.exists(folder_path):\n",
    "    os.makedirs(folder_path)\n",
    "    print(f\"Dossier '{folder_path}' créé.\")\n",
    "\n",
    "# Enregistre les détails dans le fichier JSON dans le dossier \"json\"\n",
    "with open(full_path, 'w') as json_file:\n",
    "    json.dump(details_matchs, json_file, indent=4)\n",
    "\n",
    "print(f\"Toutes les données ont été enregistrées dans {full_path}\")"
   ],
   "id": "de311adf32988e65",
   "outputs": [
    {
     "name": "stdout",
     "output_type": "stream",
     "text": [
      "Toutes les données ont été enregistrées dans json\\all_game_details.json\n"
     ]
    }
   ],
   "execution_count": 37
  }
 ],
 "metadata": {
  "kernelspec": {
   "display_name": "Python 3",
   "language": "python",
   "name": "python3"
  },
  "language_info": {
   "codemirror_mode": {
    "name": "ipython",
    "version": 2
   },
   "file_extension": ".py",
   "mimetype": "text/x-python",
   "name": "python",
   "nbconvert_exporter": "python",
   "pygments_lexer": "ipython2",
   "version": "2.7.6"
  }
 },
 "nbformat": 4,
 "nbformat_minor": 5
}
